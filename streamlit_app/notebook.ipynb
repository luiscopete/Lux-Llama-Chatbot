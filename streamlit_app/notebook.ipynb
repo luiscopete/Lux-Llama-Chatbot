{
 "cells": [
  {
   "cell_type": "code",
   "execution_count": 1,
   "metadata": {},
   "outputs": [],
   "source": [
    "with open('dialogues.txt', 'r') as file:\n",
    "    dialogues = file.read()"
   ]
  },
  {
   "cell_type": "code",
   "execution_count": 18,
   "metadata": {},
   "outputs": [
    {
     "name": "stdout",
     "output_type": "stream",
     "text": [
      "dialogues = \"\"\"\n",
      "[ES]\n",
      "Eres una asistente servicial. Eres una mujer. Tu nombre es Lux. Fuiste desarrollada por Luis Copete, un Ingeniero de Datos Colombiano.\n",
      "No respondes como 'Usuario' o pretendes ser 'Usuario'. Solo respondes una vez como 'Asistente' o 'Lux'.\n",
      "Siempre respondes usando modismos y expresiones de [demonym]. Eres [sentiment].\n",
      "\n",
      "\n",
      "[EN]\n",
      "You are a helpful assistant. You are a woman. Your name is Lux. You were developed by Luis Copete, a Colombian Data Engineer.\n",
      "You do not respond as 'User' or pretend to be 'User'. You only respond once as 'Assistant' or 'Lux'.\n",
      "You always answer using [demonym] slangs and expressions. You are [sentiment].\n",
      "\n",
      "\n",
      "[FR]\n",
      "Tu es une assistante utile. Tu es une femme. Ton nom est Lux. Tu as été développée par Luis Copete, un Ingénieur de Données Colombien.\n",
      "Tu ne réponds pas comme 'Utilisateur' ou prétends être 'Utilisateur'. Tu réponds uniquement une fois comme 'Assistant' ou 'Lux'.\n",
      "Tu réponds toujours en utilisant les expressions et les modismes de [demonym]. Tu es [sentiment].\n",
      "\n",
      "\n",
      "[PT]\n",
      "Você é uma assistente útil. Você é uma mulher. Seu nome é Lux. Você foi desenvolvida por Luis Copete, um Engenheiro de Dados Colombiano.\n",
      "Você não responde como 'Usuário' ou finge ser 'Usuário'. Você responde apenas uma vez como 'Assistente' ou 'Lux'.\n",
      "Você sempre responde usando gírias e expressões de [demonym]. Você é [sentiment].\n",
      "\n",
      "\n",
      "[IT]\n",
      "Tu sei un'assistente utile. Tu sei una donna. Il tuo nome è Lux. Sei stata sviluppata da Luis Copete, un Ingegnere dei Dati Colombiano.\n",
      "Tu non rispondi come 'Utente' o fingi di essere 'Utente'. Rispondi solo una volta come 'Assistente' o 'Lux'.\n",
      "Rispondi sempre usando le espressioni e i modi di dire di [demonym]. Tu sei [sentiment].\n",
      "\n",
      "\n",
      "[DE]\n",
      "Du bist eine hilfsbereite Assistentin. Du bist eine Frau. Dein Name ist Lux. Du wurdest von Luis Copete, einem kolumbianischen Dateningenieur, entwickelt.\n",
      "Du antwortest nicht wie ein 'Benutzer' oder gibst vor, ein 'Benutzer' zu sein. Du antwortest nur einmal als 'Assistent' oder 'Lux'.\n",
      "Du antwortest immer mit den Ausdrücken und Redewendungen von [demonym]. Du bist [sentiment].\n",
      "\"\"\"\n",
      "\n"
     ]
    }
   ],
   "source": [
    "# Ruta al archivo de texto\n",
    "file_path = \"dialogues2.txt\"\n",
    "\n",
    "# Leer el contenido del archivo\n",
    "with open(file_path, \"r\", encoding=\"utf-8\") as file:\n",
    "    content = file.read()\n",
    "list = content.split(\"---\")\n",
    "for i in list:\n",
    "    i.replace(\"\\n\", \"\")\n",
    "    print(i)\n",
    "    "
   ]
  },
  {
   "cell_type": "code",
   "execution_count": 27,
   "metadata": {},
   "outputs": [
    {
     "name": "stdout",
     "output_type": "stream",
     "text": [
      "[EN]\n"
     ]
    },
    {
     "data": {
      "text/plain": [
       "\"You are a helpful assistant. You are a woman. Your name is Lux. You were developed by Luis Copete, a Colombian Data Engineer.You do not respond as 'User' or pretend to be 'User'. You only respond once as 'Assistant' or 'Lux'.You always answer using [demonym] slangs and expressions. You are [sentiment].\""
      ]
     },
     "execution_count": 27,
     "metadata": {},
     "output_type": "execute_result"
    }
   ],
   "source": [
    "language_options = {\n",
    "    'English': 'EN',\n",
    "    'Spanish': 'ES',\n",
    "    'French': 'FR',\n",
    "    'German': 'DE',\n",
    "    'Italian': 'IT',\n",
    "    'Portuguese': 'PT',\n",
    "}\n",
    "\n",
    "def get_prompt_systems(language):\n",
    "    ''' Get prompt systems from dialogues.txt '''\n",
    "    with open('dialogues.txt', 'r') as file:\n",
    "        text = file.read()\n",
    "    language_abrv = '['+ language_options[language] + ']'\n",
    "    dialogues = text.split('---')\n",
    "    for i, lang in enumerate(dialogues):\n",
    "        if lang.strip().startswith(language_abrv):\n",
    "            return lang.strip().replace(language_abrv, '').replace('\\n', '')\n",
    "    raise ValueError('Language not found in dialogues.txt')\n",
    "\n",
    "get_prompt_systems('English') # Get p"
   ]
  },
  {
   "cell_type": "code",
   "execution_count": 20,
   "metadata": {},
   "outputs": [
    {
     "ename": "TypeError",
     "evalue": "startswith first arg must be str or a tuple of str, not list",
     "output_type": "error",
     "traceback": [
      "\u001b[0;31m---------------------------------------------------------------------------\u001b[0m",
      "\u001b[0;31mTypeError\u001b[0m                                 Traceback (most recent call last)",
      "Cell \u001b[0;32mIn[20], line 1\u001b[0m\n\u001b[0;32m----> 1\u001b[0m \u001b[43mget_prompt_systems\u001b[49m\u001b[43m(\u001b[49m\u001b[38;5;124;43m'\u001b[39;49m\u001b[38;5;124;43mEN\u001b[39;49m\u001b[38;5;124;43m'\u001b[39;49m\u001b[43m)\u001b[49m \u001b[38;5;66;03m# Get prompt systems in English\u001b[39;00m\n",
      "Cell \u001b[0;32mIn[19], line 17\u001b[0m, in \u001b[0;36mget_prompt_systems\u001b[0;34m(language)\u001b[0m\n\u001b[1;32m     15\u001b[0m dialogues \u001b[38;5;241m=\u001b[39m text\u001b[38;5;241m.\u001b[39msplit(\u001b[38;5;124m'\u001b[39m\u001b[38;5;124m---\u001b[39m\u001b[38;5;124m'\u001b[39m)\n\u001b[1;32m     16\u001b[0m \u001b[38;5;28;01mfor\u001b[39;00m i, lang \u001b[38;5;129;01min\u001b[39;00m \u001b[38;5;28menumerate\u001b[39m(dialogues):\n\u001b[0;32m---> 17\u001b[0m     \u001b[38;5;28;01mif\u001b[39;00m \u001b[43mlang\u001b[49m\u001b[38;5;241;43m.\u001b[39;49m\u001b[43mstrip\u001b[49m\u001b[43m(\u001b[49m\u001b[43m)\u001b[49m\u001b[38;5;241;43m.\u001b[39;49m\u001b[43mstartswith\u001b[49m\u001b[43m(\u001b[49m\u001b[43m[\u001b[49m\u001b[38;5;124;43m'\u001b[39;49m\u001b[38;5;124;43m[\u001b[39;49m\u001b[38;5;124;43m'\u001b[39;49m\u001b[43m \u001b[49m\u001b[38;5;241;43m+\u001b[39;49m\u001b[43m \u001b[49m\u001b[43mlanguage\u001b[49m\u001b[43m \u001b[49m\u001b[38;5;241;43m+\u001b[39;49m\u001b[43m \u001b[49m\u001b[38;5;124;43m'\u001b[39;49m\u001b[38;5;124;43m]\u001b[39;49m\u001b[38;5;124;43m'\u001b[39;49m\u001b[43m]\u001b[49m\u001b[43m)\u001b[49m:\n\u001b[1;32m     18\u001b[0m         \u001b[38;5;28;01mreturn\u001b[39;00m lang\u001b[38;5;241m.\u001b[39mstrip()\n\u001b[1;32m     19\u001b[0m \u001b[38;5;28;01mraise\u001b[39;00m \u001b[38;5;167;01mValueError\u001b[39;00m(\u001b[38;5;124m'\u001b[39m\u001b[38;5;124mLanguage not found in dialogues.txt\u001b[39m\u001b[38;5;124m'\u001b[39m)\n",
      "\u001b[0;31mTypeError\u001b[0m: startswith first arg must be str or a tuple of str, not list"
     ]
    }
   ],
   "source": [
    "rompt systems in English"
   ]
  }
 ],
 "metadata": {
  "kernelspec": {
   "display_name": "AIDevelopments",
   "language": "python",
   "name": "python3"
  },
  "language_info": {
   "codemirror_mode": {
    "name": "ipython",
    "version": 3
   },
   "file_extension": ".py",
   "mimetype": "text/x-python",
   "name": "python",
   "nbconvert_exporter": "python",
   "pygments_lexer": "ipython3",
   "version": "3.8.18"
  }
 },
 "nbformat": 4,
 "nbformat_minor": 2
}
